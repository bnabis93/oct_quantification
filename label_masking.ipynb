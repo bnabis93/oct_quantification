{
 "cells": [
  {
   "cell_type": "markdown",
   "metadata": {},
   "source": [
    "각 폴더별 존재하는 4개의 class를 하나로 합친다.    \n",
    "\n",
    "## To-do\n",
    "1. [Rule] RGB format (PIL) Color maps are => (255,0,0) Class 01 / (0,255,0) Class 02 / (0,0,255) Class 03 / (255,255,0) Class 04 / else Background  \n",
    "2. thresholding  each class image  \n",
    "3. get (row, col)  \n",
    "4. Class 02 -> Class -> 01 -> Class 03 -> Class 04 순서로 겹치게  \n",
    "5. Result, Unique values are (255,0,0) / (0,255,0) / (0,0,255) / (255,255,0)"
   ]
  },
  {
   "cell_type": "code",
   "execution_count": 1,
   "metadata": {},
   "outputs": [
    {
     "name": "stderr",
     "output_type": "stream",
     "text": [
      "Using TensorFlow backend.\n",
      "/home/bono/.pyenv/versions/3.5.5/envs/gpuTest/lib/python3.5/site-packages/tensorflow/python/framework/dtypes.py:519: FutureWarning: Passing (type, 1) or '1type' as a synonym of type is deprecated; in a future version of numpy, it will be understood as (type, (1,)) / '(1,)type'.\n",
      "  _np_qint8 = np.dtype([(\"qint8\", np.int8, 1)])\n",
      "/home/bono/.pyenv/versions/3.5.5/envs/gpuTest/lib/python3.5/site-packages/tensorflow/python/framework/dtypes.py:520: FutureWarning: Passing (type, 1) or '1type' as a synonym of type is deprecated; in a future version of numpy, it will be understood as (type, (1,)) / '(1,)type'.\n",
      "  _np_quint8 = np.dtype([(\"quint8\", np.uint8, 1)])\n",
      "/home/bono/.pyenv/versions/3.5.5/envs/gpuTest/lib/python3.5/site-packages/tensorflow/python/framework/dtypes.py:521: FutureWarning: Passing (type, 1) or '1type' as a synonym of type is deprecated; in a future version of numpy, it will be understood as (type, (1,)) / '(1,)type'.\n",
      "  _np_qint16 = np.dtype([(\"qint16\", np.int16, 1)])\n",
      "/home/bono/.pyenv/versions/3.5.5/envs/gpuTest/lib/python3.5/site-packages/tensorflow/python/framework/dtypes.py:522: FutureWarning: Passing (type, 1) or '1type' as a synonym of type is deprecated; in a future version of numpy, it will be understood as (type, (1,)) / '(1,)type'.\n",
      "  _np_quint16 = np.dtype([(\"quint16\", np.uint16, 1)])\n",
      "/home/bono/.pyenv/versions/3.5.5/envs/gpuTest/lib/python3.5/site-packages/tensorflow/python/framework/dtypes.py:523: FutureWarning: Passing (type, 1) or '1type' as a synonym of type is deprecated; in a future version of numpy, it will be understood as (type, (1,)) / '(1,)type'.\n",
      "  _np_qint32 = np.dtype([(\"qint32\", np.int32, 1)])\n",
      "/home/bono/.pyenv/versions/3.5.5/envs/gpuTest/lib/python3.5/site-packages/tensorflow/python/framework/dtypes.py:528: FutureWarning: Passing (type, 1) or '1type' as a synonym of type is deprecated; in a future version of numpy, it will be understood as (type, (1,)) / '(1,)type'.\n",
      "  np_resource = np.dtype([(\"resource\", np.ubyte, 1)])\n"
     ]
    }
   ],
   "source": [
    "from PIL import Image\n",
    "from collections import OrderedDict\n",
    "\n",
    "import numpy as np\n",
    "import os\n",
    "import cv2\n",
    "from keras.utils.np_utils import to_categorical"
   ]
  },
  {
   "cell_type": "code",
   "execution_count": 2,
   "metadata": {},
   "outputs": [
    {
     "name": "stdout",
     "output_type": "stream",
     "text": [
      "unique val :  [[  0   0   0]\n",
      " [  0   0 255]\n",
      " [255   0   0]]\n"
     ]
    }
   ],
   "source": [
    "img = cv2.imread('./data/inha_train/training/before_process_label/00.png')\n",
    "\n",
    "mapping = {\n",
    "            (0,0,0) : 0,\n",
    "            (255,0,0) : 1,\n",
    "            (0,0,255) : 2}\n",
    "unique_val = np.unique(img.reshape(-1, img.shape[2]), axis=0)\n",
    "print('unique val : ', unique_val)"
   ]
  },
  {
   "cell_type": "code",
   "execution_count": 3,
   "metadata": {},
   "outputs": [
    {
     "ename": "SyntaxError",
     "evalue": "unexpected EOF while parsing (<ipython-input-3-8bc847015bac>, line 3)",
     "output_type": "error",
     "traceback": [
      "\u001b[0;36m  File \u001b[0;32m\"<ipython-input-3-8bc847015bac>\"\u001b[0;36m, line \u001b[0;32m3\u001b[0m\n\u001b[0;31m    def get_class_frequency(labels):\u001b[0m\n\u001b[0m                                    ^\u001b[0m\n\u001b[0;31mSyntaxError\u001b[0m\u001b[0;31m:\u001b[0m unexpected EOF while parsing\n"
     ]
    }
   ],
   "source": [
    "import pandas as pd\n",
    "\n",
    "def get_class_frequency(labels):\n",
    "    '''\n",
    "    parameter\n",
    "        labels (num, ch, H, W)\n",
    "        \n",
    "    return\n",
    "        class frequency tabels (pandas table)\n",
    "    '''\n",
    "    \n",
    "    num_labels, ch, h, w = labels.shape\n",
    "    for idx in range(num_labels):\n",
    "        \n",
    "    \n",
    "    "
   ]
  },
  {
   "cell_type": "code",
   "execution_count": 5,
   "metadata": {},
   "outputs": [
    {
     "name": "stdout",
     "output_type": "stream",
     "text": [
      "unique val :  [[  0   0   0]\n",
      " [  0   0 255]\n",
      " [255   0   0]]\n",
      "OrderedDict([((0, 0, 0), 0), ((0, 0, 255), 1), ((255, 0, 0), 2)])\n",
      "(1, 3, 500, 760)\n",
      "(500, 760, 3)\n",
      "0\n",
      "(0, 0, 0)\n",
      "whole pixels :  380000\n",
      "num of row, col :  379566 379566\n",
      "1\n",
      "(0, 0, 255)\n",
      "whole pixels :  380000\n",
      "num of row, col :  194 194\n",
      "2\n",
      "(255, 0, 0)\n",
      "whole pixels :  380000\n",
      "num of row, col :  240 240\n"
     ]
    }
   ],
   "source": [
    "def totuple(a):\n",
    "    try:\n",
    "        return tuple(totuple(i) for i in a)\n",
    "    except TypeError:\n",
    "        return a\n",
    "\n",
    "def make_ordered_mapping(img):\n",
    "    '''\n",
    "    parameter \n",
    "        img (ch-last format img)\n",
    "        \n",
    "    return\n",
    "        ordered mapping (unique value)\n",
    "    '''\n",
    "    unique_val = np.unique(img.reshape(-1, img.shape[2]), axis=0)\n",
    "    print('unique val : ', unique_val)\n",
    "    \n",
    "    ordered_mapping =OrderedDict()\n",
    "    num_class =0 \n",
    "    for k in unique_val:\n",
    "        ordered_mapping[totuple(k)] = num_class\n",
    "        num_class = num_class+1\n",
    "        \n",
    "    \n",
    "    return ordered_mapping\n",
    "    \n",
    "\n",
    "def ch_wise_one_hot_encoding(labels,class_num, mapping):\n",
    "    '''\n",
    "    input : patchs (ch first images)\n",
    "    \n",
    "    mapping example : \n",
    "        mapping = {\n",
    "            (0,0,0) : 0,\n",
    "            (255,0,0) : 1,\n",
    "            (0,0,255) : 2\n",
    "            }\n",
    "    \n",
    "    return patches (num, H, W, class-1)\n",
    "    '''\n",
    "    patch_num, c, h, w = labels.shape\n",
    "    encoded_labels = np.zeros((patch_num, class_num, h, w ))\n",
    "    \n",
    "    for idx in range(patch_num):\n",
    "        ch_cnt =0 \n",
    "        temp_label = labels[idx]\n",
    "        temp_label = np.transpose(temp_label, (1,2,0))\n",
    "        print(np.shape(temp_label))\n",
    "        \n",
    "        '''\n",
    "        mapping 순서 이슈\n",
    "        '''\n",
    "        for k in mapping:\n",
    "            print(mapping[k])\n",
    "            print(k)\n",
    "            row,col = np.where(np.all(temp_label == k, axis = -1))\n",
    "            print('whole pixels : ', 500*760)\n",
    "            print('num of row, col : ', len(row), len(col))\n",
    "            encoded_labels[idx, ch_cnt, row,col] = 1\n",
    "            ch_cnt = ch_cnt + 1\n",
    "            \n",
    "    return encoded_labels\n",
    "\n",
    "img = cv2.imread('./data/inha_train/training/before_process_label/00.png')\n",
    "unique_val = np.unique(img.reshape(-1, img.shape[2]), axis=0)\n",
    "mapping = make_ordered_mapping(img)\n",
    "print(mapping)\n",
    "\n",
    "img = np.transpose(img, (2,0,1))\n",
    "img = np.expand_dims(img, 0)\n",
    "print(np.shape(img))\n",
    "\n",
    "temp = ch_wise_one_hot_encoding(img,3, mapping)\n",
    "#print(temp)\n",
    "unique_val = np.unique(img.reshape(-1, img.shape[2]), axis=0)\n",
    "#print('unique val : ', unique_val)\n",
    "\n"
   ]
  },
  {
   "cell_type": "code",
   "execution_count": 2,
   "metadata": {},
   "outputs": [],
   "source": [
    "import random\n",
    "import numpy as np\n",
    "import random\n",
    "import configparser\n",
    "import os\n",
    "import cv2\n",
    "import sys\n",
    "import configparser\n",
    "import pandas as pd\n",
    "\n",
    "sys.path.insert(0, './lib_keras/')\n",
    "\n",
    "from help_functions import load_hdf5\n",
    "from help_functions import visualize\n",
    "from help_functions import group_images\n",
    "from help_functions import show_on_jupyter\n",
    "from pre_processing import my_preprocessing\n",
    "from pre_processing import augmentations\n",
    "from collections import OrderedDict\n",
    "from PIL import Image\n",
    "\n",
    "\n",
    "\n",
    "\n"
   ]
  },
  {
   "cell_type": "code",
   "execution_count": 33,
   "metadata": {},
   "outputs": [
    {
     "name": "stdout",
     "output_type": "stream",
     "text": [
      "unique val :  [[  0   0   0]\n",
      " [  0   0 255]\n",
      " [255   0   0]]\n",
      "379548.15\n",
      "311.85\n",
      "140.0\n",
      "0.9988109210526316\n",
      "0.000820657894736842\n",
      "0.00036842105263157896\n"
     ]
    }
   ],
   "source": [
    "def totuple(a):\n",
    "    try:\n",
    "        return tuple(totuple(i) for i in a)\n",
    "    except TypeError:\n",
    "        return a\n",
    "\n",
    "def make_ordered_mapping(img):\n",
    "    '''\n",
    "    parameter \n",
    "        img (ch-last format img)\n",
    "        \n",
    "    return\n",
    "        ordered mapping (unique value)\n",
    "    '''\n",
    "    unique_val = np.unique(img.reshape(-1, img.shape[2]), axis=0)\n",
    "    print('unique val : ', unique_val)\n",
    "    \n",
    "    ordered_mapping =OrderedDict()\n",
    "    num_class =0 \n",
    "    for k in unique_val:\n",
    "        ordered_mapping[totuple(k)] = num_class\n",
    "        num_class = num_class+1\n",
    "        \n",
    "    \n",
    "    return ordered_mapping\n",
    "    \n",
    "\n",
    "def ch_wise_one_hot_encoding(labels,class_num, mapping):\n",
    "    '''\n",
    "    input : patchs (ch first images)\n",
    "    \n",
    "    mapping example : \n",
    "        mapping = {\n",
    "            (0,0,0) : 0,\n",
    "            (255,0,0) : 1,\n",
    "            (0,0,255) : 2\n",
    "            }\n",
    "    \n",
    "    return patches (num, H, W, class-1)\n",
    "    '''\n",
    "    patch_num, c, h, w = labels.shape\n",
    "    class_frequency_table = pd.DataFrame(columns=['class_0', 'class_1', 'class_2', 'frequency_0', 'frequency_1','frequency_2'])\n",
    "    \n",
    "    num_pixels = int(h*w)\n",
    "    for idx in range(patch_num):\n",
    "        ch_cnt =0 \n",
    "        temp_label = labels[idx]\n",
    "        temp_label = np.transpose(temp_label, (1,2,0))\n",
    "        #print(np.shape(temp_label))\n",
    "        \n",
    "        class_frequency_table.loc[idx] = 0\n",
    "        \n",
    "        '''\n",
    "        mapping 순서 이슈\n",
    "        '''\n",
    "        for k in mapping:\n",
    "            row,col = np.where(np.all(temp_label == k, axis = -1))\n",
    "            class_pixels = len(row)\n",
    "            \n",
    "            \n",
    "            class_frequency_table.loc[idx,'class_' + str(ch_cnt)] = class_pixels\n",
    "            class_frequency_table.loc[idx,'frequency_' + str(ch_cnt)] = class_pixels / num_pixels\n",
    "            ch_cnt = ch_cnt + 1\n",
    "            \n",
    "    return class_frequency_table\n",
    "\n",
    "train_masks = load_hdf5('./data/hdf5_data/inha_oct/inha_oct_groundTruth_train.hdf5')\n",
    "img = cv2.imread('./data/inha_train/training/before_process_label/00.png')\n",
    "unique_val = np.unique(img.reshape(-1, img.shape[2]), axis=0)\n",
    "mapping = make_ordered_mapping(img)\n",
    "\n",
    "\n",
    "class_frequency_table = ch_wise_one_hot_encoding(train_masks,3, mapping)\n",
    "\n",
    "class_frequency_table\n",
    "print(class_frequency_table['class_0'].mean())\n",
    "print(class_frequency_table['class_1'].mean())\n",
    "print(class_frequency_table['class_2'].mean())\n",
    "print(class_frequency_table['frequency_0'].mean())\n",
    "print(class_frequency_table['frequency_1'].mean())\n",
    "print(class_frequency_table['frequency_2'].mean())"
   ]
  },
  {
   "cell_type": "code",
   "execution_count": 26,
   "metadata": {},
   "outputs": [
    {
     "data": {
      "text/html": [
       "<div>\n",
       "<style scoped>\n",
       "    .dataframe tbody tr th:only-of-type {\n",
       "        vertical-align: middle;\n",
       "    }\n",
       "\n",
       "    .dataframe tbody tr th {\n",
       "        vertical-align: top;\n",
       "    }\n",
       "\n",
       "    .dataframe thead th {\n",
       "        text-align: right;\n",
       "    }\n",
       "</style>\n",
       "<table border=\"1\" class=\"dataframe\">\n",
       "  <thead>\n",
       "    <tr style=\"text-align: right;\">\n",
       "      <th></th>\n",
       "      <th>A</th>\n",
       "      <th>B</th>\n",
       "      <th>C</th>\n",
       "    </tr>\n",
       "  </thead>\n",
       "  <tbody>\n",
       "    <tr>\n",
       "      <th>0</th>\n",
       "      <td>1</td>\n",
       "      <td>2</td>\n",
       "      <td>3</td>\n",
       "    </tr>\n",
       "    <tr>\n",
       "      <th>1</th>\n",
       "      <td>1</td>\n",
       "      <td>0</td>\n",
       "      <td>NaN</td>\n",
       "    </tr>\n",
       "  </tbody>\n",
       "</table>\n",
       "</div>"
      ],
      "text/plain": [
       "   A  B    C\n",
       "0  1  2    3\n",
       "1  1  0  NaN"
      ]
     },
     "execution_count": 26,
     "metadata": {},
     "output_type": "execute_result"
    }
   ],
   "source": [
    "temp = pd.DataFrame(columns=['A','B','C'])\n",
    "temp.loc[0] = ([1,2,3])\n",
    "\n",
    "temp.loc[1,'B'] = 0\n",
    "temp['A'] = 1\n",
    "temp\n"
   ]
  },
  {
   "cell_type": "code",
   "execution_count": 44,
   "metadata": {},
   "outputs": [
    {
     "name": "stdout",
     "output_type": "stream",
     "text": [
      "(500, 760, 3)\n",
      "[[  0.   0.   0.]\n",
      " [  0.   0. 255.]\n",
      " [255.   0.   0.]]\n"
     ]
    }
   ],
   "source": [
    "temp = np.transpose(train_masks,(0,2,3,1))\n",
    "temp = temp[1,:,:,:]\n",
    "\n",
    "print(np.shape(temp))\n",
    "print( np.unique(temp.reshape(-1, temp.shape[2]), axis=0))\n",
    "\n",
    "temp = Image.fromarray(temp.astype(np.uint8))\n",
    "temp.save('./temp.png')"
   ]
  },
  {
   "cell_type": "code",
   "execution_count": 26,
   "metadata": {},
   "outputs": [
    {
     "name": "stdout",
     "output_type": "stream",
     "text": [
      "(40, 500, 760, 3)\n",
      "./data/inha_train/training/label/\n"
     ]
    }
   ],
   "source": [
    "img = cv2.imread('./data/inha_train/training/before_process_label/00.png')\n",
    "img_shape = np.shape(img)\n",
    "channels = img_shape[2]\n",
    "img_height = img_shape[0]\n",
    "img_width = img_shape[1]\n",
    "\n",
    "groundTruth = np.empty((40,img_height,img_width,3))\n",
    "\n",
    "\n",
    "\n",
    "config = configparser.RawConfigParser()\n",
    "config.read('pre_configuration.txt')\n",
    "ground_truth_img_train_path = config.get('path','ground')\n",
    "\n",
    "print(np.shape(groundTruth))\n",
    "print(ground_truth_img_train_path)"
   ]
  },
  {
   "cell_type": "code",
   "execution_count": 32,
   "metadata": {},
   "outputs": [
    {
     "name": "stdout",
     "output_type": "stream",
     "text": [
      "ground truth name: 0.png\n",
      "ground truth name: 1.png\n",
      "ground truth name: 10.png\n",
      "ground truth name: 11.png\n",
      "ground truth name: 12.png\n",
      "ground truth name: 13.png\n",
      "ground truth name: 14.png\n",
      "ground truth name: 15.png\n",
      "ground truth name: 16.png\n",
      "ground truth name: 17.png\n",
      "ground truth name: 18.png\n",
      "ground truth name: 19.png\n",
      "ground truth name: 2.png\n",
      "ground truth name: 20.png\n",
      "ground truth name: 21.png\n",
      "ground truth name: 22.png\n",
      "ground truth name: 23.png\n",
      "ground truth name: 24.png\n",
      "ground truth name: 25.png\n",
      "ground truth name: 26.png\n",
      "ground truth name: 27.png\n",
      "ground truth name: 28.png\n",
      "ground truth name: 29.png\n",
      "ground truth name: 3.png\n",
      "ground truth name: 30.png\n",
      "ground truth name: 31.png\n",
      "ground truth name: 32.png\n",
      "ground truth name: 33.png\n",
      "ground truth name: 34.png\n",
      "ground truth name: 35.png\n",
      "ground truth name: 36.png\n",
      "ground truth name: 37.png\n",
      "ground truth name: 38.png\n",
      "ground truth name: 39.png\n",
      "ground truth name: 4.png\n",
      "ground truth name: 5.png\n",
      "ground truth name: 6.png\n",
      "ground truth name: 7.png\n",
      "ground truth name: 8.png\n",
      "ground truth name: 9.png\n"
     ]
    }
   ],
   "source": [
    "for count, filename in enumerate(sorted(os.listdir(ground_truth_img_train_path)), start=0):\n",
    "    groundTruth_name = filename\n",
    "    print (\"ground truth name: \" + groundTruth_name)\n",
    "    g_truth = Image.open(ground_truth_img_train_path + groundTruth_name)\n",
    "    #if len(np.shape(g_truth)) !=2:\n",
    "    #    g_truth = cv2.imread(ground_truth_img_train_path+groundTruth_name)\n",
    "        #g_truth = g_truth[:,:,0]\n",
    "    groundTruth[count] = np.asarray(g_truth)"
   ]
  },
  {
   "cell_type": "code",
   "execution_count": 34,
   "metadata": {},
   "outputs": [
    {
     "name": "stderr",
     "output_type": "stream",
     "text": [
      "/home/bono/.pyenv/versions/3.5.5/envs/gpuTest/lib/python3.5/site-packages/skimage/io/_plugins/matplotlib_plugin.py:78: UserWarning: Float image out of standard range; displaying image with stretched contrast.\n",
      "  warn(\"Float image out of standard range; displaying \"\n"
     ]
    },
    {
     "data": {
      "text/plain": [
       "<matplotlib.image.AxesImage at 0x7efbf2b5a898>"
      ]
     },
     "execution_count": 34,
     "metadata": {},
     "output_type": "execute_result"
    },
    {
     "data": {
      "image/png": "[encoded data removed]",
      "text/plain": [
       "<Figure size 432x288 with 2 Axes>"
      ]
     },
     "metadata": {},
     "output_type": "display_data"
    }
   ],
   "source": [
    "%matplotlib inline\n",
    "import numpy as np\n",
    "from skimage.io import imshow\n",
    "from skimage.measure import label\n",
    "from scipy.ndimage.morphology import distance_transform_edt\n",
    "import numpy as np\n",
    "\n",
    "def generate_random_circles(n = 100, d = 256):\n",
    "    circles = np.random.randint(0, d, (n, 3))\n",
    "    x = np.zeros((d, d), dtype=int)\n",
    "    f = lambda x, y: ((x - x0)**2 + (y - y0)**2) <= (r/d*10)**2\n",
    "    for x0, y0, r in circles:\n",
    "        x += np.fromfunction(f, x.shape)\n",
    "    x = np.clip(x, 0, 1)\n",
    "\n",
    "    return x\n",
    "\n",
    "def unet_weight_map(y, wc=None, w0 = 10, sigma = 5):\n",
    "\n",
    "    \"\"\"\n",
    "    Generate weight maps as specified in the U-Net paper\n",
    "    for boolean mask.\n",
    "\n",
    "    \"U-Net: Convolutional Networks for Biomedical Image Segmentation\"\n",
    "    https://arxiv.org/pdf/1505.04597.pdf\n",
    "\n",
    "    Parameters\n",
    "    ----------\n",
    "    mask: Numpy array\n",
    "        2D array of shape (image_height, image_width) representing binary mask\n",
    "        of objects.\n",
    "    wc: dict\n",
    "        Dictionary of weight classes.\n",
    "    w0: int\n",
    "        Border weight parameter.\n",
    "    sigma: int\n",
    "        Border width parameter.\n",
    "\n",
    "    Returns\n",
    "    -------\n",
    "    Numpy array\n",
    "        Training weights. A 2D array of shape (image_height, image_width).\n",
    "    \"\"\"\n",
    "\n",
    "    labels = label(y)\n",
    "    no_labels = labels == 0\n",
    "    label_ids = sorted(np.unique(labels))[1:]\n",
    "\n",
    "    if len(label_ids) > 1:\n",
    "        distances = np.zeros((y.shape[0], y.shape[1], len(label_ids)))\n",
    "\n",
    "        for i, label_id in enumerate(label_ids):\n",
    "            distances[:,:,i] = distance_transform_edt(labels != label_id)\n",
    "\n",
    "        distances = np.sort(distances, axis=2)\n",
    "        d1 = distances[:,:,0]\n",
    "        d2 = distances[:,:,1]\n",
    "        w = w0 * np.exp(-1/2*((d1 + d2) / sigma)**2) * no_labels\n",
    "    else:\n",
    "        w = np.zeros_like(y)\n",
    "    if wc:\n",
    "        class_weights = np.zeros_like(y)\n",
    "        for k, v in wc.items():\n",
    "            class_weights[y == k] = v\n",
    "        w = w + class_weights\n",
    "    return w\n",
    "\n",
    "y = generate_random_circles()\n",
    "\n",
    "wc = {\n",
    "    0: 1, # background\n",
    "    1: 5  # objects\n",
    "}\n",
    "\n",
    "w = unet_weight_map(y, wc)\n",
    "\n",
    "imshow(w)"
   ]
  },
  {
   "cell_type": "code",
   "execution_count": 29,
   "metadata": {},
   "outputs": [
    {
     "data": {
      "image/png": "[encoded data removed]",
      "text/plain": [
       "<Figure size 432x288 with 1 Axes>"
      ]
     },
     "metadata": {},
     "output_type": "display_data"
    },
    {
     "name": "stdout",
     "output_type": "stream",
     "text": [
      "(500, 760, 3)\n",
      "[[  0   0   0]\n",
      " [  0   0   1]\n",
      " [  0   0   3]\n",
      " ...\n",
      " [255 255  26]\n",
      " [255 255  29]\n",
      " [255 255  39]]\n",
      "14882\n"
     ]
    }
   ],
   "source": [
    "temp = cv2.imread('temp_label.jpeg')\n",
    "show_on_jupyter(temp)\n",
    "unique_val = np.unique(temp.reshape(-1, temp.shape[2]), axis=0)\n",
    "\n",
    "print(np.shape(temp))\n",
    "print(unique_val)\n",
    "print(len(unique_val))"
   ]
  },
  {
   "cell_type": "code",
   "execution_count": 30,
   "metadata": {},
   "outputs": [
    {
     "ename": "ValueError",
     "evalue": "too many values to unpack (expected 2)",
     "output_type": "error",
     "traceback": [
      "\u001b[0;31m---------------------------------------------------------------------------\u001b[0m",
      "\u001b[0;31mValueError\u001b[0m                                Traceback (most recent call last)",
      "\u001b[0;32m<ipython-input-30-12d06964b378>\u001b[0m in \u001b[0;36m<module>\u001b[0;34m()\u001b[0m\n\u001b[1;32m      1\u001b[0m \u001b[0mencoded_labels\u001b[0m \u001b[0;34m=\u001b[0m \u001b[0mnp\u001b[0m\u001b[0;34m.\u001b[0m\u001b[0mzeros\u001b[0m\u001b[0;34m(\u001b[0m\u001b[0;34m(\u001b[0m\u001b[0;36m500\u001b[0m\u001b[0;34m,\u001b[0m \u001b[0;36m760\u001b[0m\u001b[0;34m)\u001b[0m\u001b[0;34m)\u001b[0m\u001b[0;34m\u001b[0m\u001b[0m\n\u001b[1;32m      2\u001b[0m \u001b[0;34m\u001b[0m\u001b[0m\n\u001b[0;32m----> 3\u001b[0;31m \u001b[0mrow\u001b[0m\u001b[0;34m,\u001b[0m\u001b[0mcol\u001b[0m \u001b[0;34m=\u001b[0m \u001b[0mnp\u001b[0m\u001b[0;34m.\u001b[0m\u001b[0mwhere\u001b[0m\u001b[0;34m(\u001b[0m\u001b[0mtemp\u001b[0m \u001b[0;34m>\u001b[0m \u001b[0;34m(\u001b[0m\u001b[0;36m0\u001b[0m\u001b[0;34m,\u001b[0m\u001b[0;36m0\u001b[0m\u001b[0;34m,\u001b[0m\u001b[0;36m200\u001b[0m\u001b[0;34m)\u001b[0m\u001b[0;34m)\u001b[0m\u001b[0;34m\u001b[0m\u001b[0m\n\u001b[0m\u001b[1;32m      4\u001b[0m \u001b[0mprint\u001b[0m\u001b[0;34m(\u001b[0m\u001b[0mlen\u001b[0m\u001b[0;34m(\u001b[0m\u001b[0mrow\u001b[0m\u001b[0;34m)\u001b[0m\u001b[0;34m)\u001b[0m\u001b[0;34m\u001b[0m\u001b[0m\n\u001b[1;32m      5\u001b[0m \u001b[0mencoded_labels\u001b[0m\u001b[0;34m[\u001b[0m\u001b[0mrow\u001b[0m\u001b[0;34m,\u001b[0m\u001b[0mcol\u001b[0m\u001b[0;34m]\u001b[0m \u001b[0;34m=\u001b[0m \u001b[0;36m255\u001b[0m\u001b[0;34m\u001b[0m\u001b[0m\n",
      "\u001b[0;31mValueError\u001b[0m: too many values to unpack (expected 2)"
     ]
    }
   ],
   "source": [
    "encoded_labels = np.zeros((500, 760))\n",
    "\n",
    "row,col = np.where(temp > (0,0,200))\n",
    "print(len(row))\n",
    "encoded_labels[row,col] = 255\n",
    "\n",
    "\n",
    "\n",
    "show_on_jupyter(encoded_labels,'gray')"
   ]
  },
  {
   "cell_type": "code",
   "execution_count": null,
   "metadata": {},
   "outputs": [],
   "source": []
  }
 ],
 "metadata": {
  "kernelspec": {
   "display_name": "Python 3",
   "language": "python",
   "name": "python3"
  },
  "language_info": {
   "codemirror_mode": {
    "name": "ipython",
    "version": 3
   },
   "file_extension": ".py",
   "mimetype": "text/x-python",
   "name": "python",
   "nbconvert_exporter": "python",
   "pygments_lexer": "ipython3",
   "version": "3.5.5"
  }
 },
 "nbformat": 4,
 "nbformat_minor": 4
}
