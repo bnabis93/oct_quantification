{
 "cells": [
  {
   "cell_type": "code",
   "execution_count": 7,
   "metadata": {},
   "outputs": [],
   "source": [
    "import numpy as np\n",
    "import cv2\n",
    "import sys\n",
    "import os\n",
    "\n",
    "from PIL import Image\n"
   ]
  },
  {
   "cell_type": "code",
   "execution_count": 8,
   "metadata": {},
   "outputs": [
    {
     "name": "stdout",
     "output_type": "stream",
     "text": [
      "label path :  /home/bono/Desktop/mellab_project/bono_hw/oct_segmentation/data/fine_segmentor_data/fine_preLabel/\n",
      "train path :  /home/bono/Desktop/mellab_project/bono_hw/oct_segmentation/data/fine_segmentor_data/fine_train/\n"
     ]
    }
   ],
   "source": [
    "CUR_PATH = os.path.abspath(os.getcwd())\n",
    "\n",
    "LABEL_DATA_PATH = CUR_PATH + '/data/fine_segmentor_data/fine_preLabel/'\n",
    "TRAIN_DATA_PATH = CUR_PATH + '/data/fine_segmentor_data/fine_train/'\n",
    "\n",
    "SAVE_DATA_PATH = CUR_PATH + '/data/fine_segmentor_data/fine_label/'\n",
    "\n",
    "\n",
    "print('label path : ', LABEL_DATA_PATH)\n",
    "print('train path : ', TRAIN_DATA_PATH)\n",
    "\n",
    "if os.path.isdir(SAVE_DATA_PATH) == False:\n",
    "    os.mkdir(SAVE_DATA_PATH)\n",
    "else:\n",
    "    print('already exist the folder in this path : {}'.format(SAVE_DATA_PATH))"
   ]
  },
  {
   "cell_type": "code",
   "execution_count": 11,
   "metadata": {},
   "outputs": [
    {
     "name": "stdout",
     "output_type": "stream",
     "text": [
      "400 200\n"
     ]
    }
   ],
   "source": [
    "def get_sorted_file(file_path):\n",
    "    '''\n",
    "    \n",
    "    \n",
    "    '''\n",
    "    num_files = 0\n",
    "    lists_files = []\n",
    "\n",
    "    for count, filename in enumerate(sorted(os.listdir(file_path)), start=0):\n",
    "        lists_files.append(file_path + filename)\n",
    "        num_files = num_files+1\n",
    "        \n",
    "    return lists_files, num_files\n",
    "    \n",
    "def label_files_preprocessing(file_lists, num_labels, save_path):\n",
    "    '''\n",
    "    0 -> bmo\n",
    "    1 -> lc\n",
    "    '''\n",
    "    temp_img = Image.open(file_lists[0])\n",
    "    info_imgH, info_imgW = np.shape(np.asarray(temp_img))\n",
    "    \n",
    "    output_labels = np.zeros((int(num_labels /2), info_imgH, info_imgW, 3 ))\n",
    "    \n",
    "    for idx in range(num_labels):\n",
    "        \n",
    "        if int((file_lists[idx])[-5]) == 0:\n",
    "            # bmo, red , RGB format\n",
    "            label_img = np.asarray(Image.open(file_lists[idx]))\n",
    "            unique_val = np.unique(label_img)\n",
    "            row, col = np.nonzero(label_img)\n",
    "            #print('row {} col {}'.format(row, col))\n",
    "            output_labels[int(idx/2), row, col, :] = (0,0,255) #save BGR (cv2)\n",
    "            \n",
    "        elif int((file_lists[idx])[-5]) == 1:\n",
    "            # lc, blue, RGB format\n",
    "            \n",
    "            label_img = np.asarray(Image.open(file_lists[idx]))\n",
    "            unique_val = np.unique(label_img)\n",
    "            row, col = np.nonzero(label_img)\n",
    "            #print('row {} col {}'.format(row, col))\n",
    "            output_labels[int(idx/2), row, col, :] = (255,0,0)\n",
    "        \n",
    "        \n",
    "    for idx in range(int(num_labels/2)):\n",
    "        if idx >= 100:\n",
    "            cv2.imwrite(save_path +str(idx) +'.png', output_labels[idx])\n",
    "        elif idx >= 10 and idx < 100:\n",
    "            cv2.imwrite(save_path +'0'+str(idx) +'.png', output_labels[idx])\n",
    "        else:\n",
    "            cv2.imwrite(save_path +'00'+str(idx) +'.png', output_labels[idx])\n",
    "            \n",
    "def train_img_rename(file_lists, num_label, save_path ):\n",
    "    num_imgs = int(num_label/2)\n",
    "    temp_img = Image.open(file_lists[0])\n",
    "    info_imgH, info_imgW, info_imgCh = np.shape(np.asarray(temp_img))\n",
    "    output_trains = np.zeros((int(num_labels /2), info_imgH, info_imgW, info_imgCh ))\n",
    "    \n",
    "    for idx in range(num_imgs):\n",
    "        train_img = np.asarray(Image.open(file_lists[idx]))\n",
    "        output_trains[idx]  = train_img\n",
    "        \n",
    "        if idx >= 100:\n",
    "            cv2.imwrite(save_path +str(idx) +'.png', output_trains[idx])\n",
    "        elif idx >= 10 and idx < 100:\n",
    "            cv2.imwrite(save_path +'0'+str(idx) +'.png', output_trains[idx])\n",
    "        else:\n",
    "            cv2.imwrite(save_path +'00'+str(idx) +'.png', output_trains[idx])\n",
    "        \n",
    "        \n",
    "        \n",
    "        \n",
    "\n",
    "if __name__ == '__main__':\n",
    "    \n",
    "    label_file_lists, num_labels = get_sorted_file(LABEL_DATA_PATH)\n",
    "    train_file_lists, num_trains = get_sorted_file(TRAIN_DATA_PATH)\n",
    "    print(num_labels, num_trains)\n",
    "    train_img_rename(train_file_lists, num_labels, TRAIN_DATA_PATH )\n",
    "    #label_files_preprocessing(label_file_lists, num_labels, SAVE_DATA_PATH)\n",
    "    \n"
   ]
  },
  {
   "cell_type": "code",
   "execution_count": 5,
   "metadata": {},
   "outputs": [],
   "source": [
    "def get_sorted_img_file(file_path):\n",
    "    '''\n",
    "    \n",
    "    \n",
    "    '''\n",
    "    num_files = 0\n",
    "    ch_flag = False\n",
    "    lists_files = []\n",
    "\n",
    "    for count, filename in enumerate(sorted(os.listdir(file_path)), start=0):\n",
    "        if num_files == 0:\n",
    "            temp_img = Image.open(file_path + filename)\n",
    "            temp_img = np.asarray(temp_img) # numpy도 h,w로 읽는구나\n",
    "            \n",
    "            if len(np.shape(temp_img)) == 2:\n",
    "                print(np.shape(temp_img))\n",
    "                info_imgH, info_imgW = np.shape(temp_img)\n",
    "            elif len(np.shape(temp_img)) == 3:\n",
    "                print(np.shape(temp_img))\n",
    "                ch_flag = True\n",
    "                info_imgH, info_imgW, info_imgCh = np.shape(temp_img)[:3]\n",
    "        \n",
    "        lists_files.append(file_path + filename)\n",
    "        num_files = num_files+1\n",
    "    \n",
    "    if ch_flag ==True:\n",
    "        print('num of images : {} / image shape : W({}) x H({}) x CH({})'.format(num_files,info_imgW, info_imgH, info_imgCh))\n",
    "        sorted_imgs = np.zeros((num_files, info_imgH, info_imgW,info_imgCh ))\n",
    "        print('make sorted imgs array : {}'.format(np.shape(sorted_imgs)))\n",
    "    else:\n",
    "        print('num of images : {} / image shape : W({}) x H({})'.format(num_files,info_imgW, info_imgH))\n",
    "        sorted_imgs = np.zeros((num_files, info_imgH, info_imgW))\n",
    "        print('make sorted imgs array : {}'.format(np.shape(sorted_imgs)))"
   ]
  },
  {
   "cell_type": "code",
   "execution_count": null,
   "metadata": {},
   "outputs": [],
   "source": []
  }
 ],
 "metadata": {
  "kernelspec": {
   "display_name": "Python 3",
   "language": "python",
   "name": "python3"
  },
  "language_info": {
   "codemirror_mode": {
    "name": "ipython",
    "version": 3
   },
   "file_extension": ".py",
   "mimetype": "text/x-python",
   "name": "python",
   "nbconvert_exporter": "python",
   "pygments_lexer": "ipython3",
   "version": "3.5.5"
  }
 },
 "nbformat": 4,
 "nbformat_minor": 4
}
